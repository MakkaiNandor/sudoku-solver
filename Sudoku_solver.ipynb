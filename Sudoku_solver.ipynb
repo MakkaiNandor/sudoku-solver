{
  "cells": [
    {
      "attachments": {},
      "cell_type": "markdown",
      "metadata": {},
      "source": [
        "# Sudoku solver\n",
        "### with genetic algorithm"
      ]
    },
    {
      "cell_type": "code",
      "execution_count": 220,
      "metadata": {},
      "outputs": [],
      "source": [
        "# imports\n",
        "import numpy as np"
      ]
    },
    {
      "attachments": {},
      "cell_type": "markdown",
      "metadata": {},
      "source": [
        "#### Sudoku class"
      ]
    },
    {
      "cell_type": "code",
      "execution_count": 221,
      "metadata": {},
      "outputs": [],
      "source": [
        "class Sudoku:\n",
        "    def __init__(self, data: list|np.ndarray, table_size: int, grid_size: int):\n",
        "        self.size = table_size\n",
        "        self.nr_values = self.size ** 2\n",
        "        self.grid_size = grid_size\n",
        "        self.nr_grid_values = self.grid_size ** 2\n",
        "        self.nr_grids = self.nr_values // self.nr_grid_values\n",
        "\n",
        "        if isinstance(data, list):\n",
        "            data = np.array(data)\n",
        "\n",
        "        if isinstance(data, np.ndarray):\n",
        "            self.raw_data = data\n",
        "            self.rows = np.copy(np.reshape(self.raw_data, (self.size, self.size)))\n",
        "            self.columns = np.copy(self.rows.T)\n",
        "            self.grids = np.zeros((self.nr_grids, self.nr_grid_values), np.int32)\n",
        "            for i in range(self.grid_size):\n",
        "                for j in range(self.grid_size):\n",
        "                    xs = (i * self.grid_size) % self.size\n",
        "                    ys = (j * self.grid_size) % self.size\n",
        "                    self.grids[i * self.grid_size + j] = np.reshape(self.rows[xs:xs+self.grid_size,ys:ys+self.grid_size], (9,))\n",
        "            self.fixed_values = None\n",
        "\n",
        "    def to_rows_idx(self, idx):\n",
        "        row = idx // self.size\n",
        "        column = idx % self.size\n",
        "        return (row, column)\n",
        "\n",
        "    def to_columns_idx(self, idx):\n",
        "        row = idx // self.size\n",
        "        column = idx % self.size\n",
        "        return (column, row)\n",
        "\n",
        "    def to_grids_idx(self, idx):\n",
        "        row = idx // self.size\n",
        "        column = idx % self.size\n",
        "        grid = row // self.grid_size * self.grid_size + column // self.grid_size\n",
        "        nr = row % self.grid_size * self.grid_size + column % self.grid_size\n",
        "        return (grid, nr)\n",
        "\n",
        "    def get_rows_data(self, idx):\n",
        "        return self.rows[self.to_rows_idx(idx)]\n",
        "\n",
        "    def get_columns_data(self, idx):\n",
        "        return self.columns[self.to_columns_idx(idx)]\n",
        "\n",
        "    def get_grids_data(self, idx):\n",
        "        return self.grids[self.to_grids_idx(idx)]\n",
        "\n",
        "    def show(self):\n",
        "        for idx in range(self.nr_values):\n",
        "            row = idx // self.size + 1\n",
        "            column = idx % self.size + 1\n",
        "\n",
        "            if column == 1:\n",
        "                print(end=\" \")\n",
        "\n",
        "            print(self.raw_data[idx], end=\" \")\n",
        "\n",
        "            if column == self.size:\n",
        "                print()\n",
        "                if not row == self.size and row % self.grid_size == 0:\n",
        "                    print(\"-\" * ((self.size + self.size // self.grid_size - 1) * 2 + 1))\n",
        "            elif column % self.grid_size == 0:\n",
        "                print(\"|\", end=\" \")"
      ]
    },
    {
      "cell_type": "code",
      "execution_count": 222,
      "metadata": {},
      "outputs": [],
      "source": [
        "def read_sudoku_from_file(filepath: str) -> Sudoku:\n",
        "    f = open(filepath, \"r\")\n",
        "    size, grid_size = list(map(int, f.readline().split()))\n",
        "    data = list(map(int, f.read().split()))\n",
        "    f.close()\n",
        "    return Sudoku(data, size, grid_size)"
      ]
    },
    {
      "cell_type": "code",
      "execution_count": 223,
      "metadata": {},
      "outputs": [],
      "source": [
        "sudoku = read_sudoku_from_file(\"./inputs/input_1.txt\")"
      ]
    },
    {
      "cell_type": "code",
      "execution_count": 224,
      "metadata": {},
      "outputs": [
        {
          "name": "stdout",
          "output_type": "stream",
          "text": [
            " 0 1 0 | 2 0 5 | 0 8 0 \n",
            " 0 0 3 | 0 0 0 | 4 0 0 \n",
            " 2 0 0 | 0 7 0 | 0 0 3 \n",
            "-----------------------\n",
            " 0 4 0 | 6 1 2 | 0 7 0 \n",
            " 0 0 0 | 0 0 0 | 0 0 0 \n",
            " 0 7 0 | 3 9 8 | 0 2 0 \n",
            "-----------------------\n",
            " 4 0 0 | 0 6 0 | 0 0 9 \n",
            " 0 0 2 | 0 0 0 | 8 0 0 \n",
            " 0 6 0 | 9 0 1 | 0 4 0 \n"
          ]
        }
      ],
      "source": [
        "sudoku.show()"
      ]
    }
  ],
  "metadata": {
    "colab": {
      "provenance": []
    },
    "kernelspec": {
      "display_name": "Python 3",
      "language": "python",
      "name": "python3"
    },
    "language_info": {
      "codemirror_mode": {
        "name": "ipython",
        "version": 3
      },
      "file_extension": ".py",
      "mimetype": "text/x-python",
      "name": "python",
      "nbconvert_exporter": "python",
      "pygments_lexer": "ipython3",
      "version": "3.10.4"
    },
    "vscode": {
      "interpreter": {
        "hash": "b25b111c44aa2e8186312051d7af1e259af5d837a85bd0cdb7c9096388aedf9c"
      }
    }
  },
  "nbformat": 4,
  "nbformat_minor": 0
}
